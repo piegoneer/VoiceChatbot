{
 "cells": [
  {
   "cell_type": "code",
   "execution_count": 1,
   "id": "d467d0a4-5803-4a37-b55c-9803af55e885",
   "metadata": {},
   "outputs": [
    {
     "name": "stdout",
     "output_type": "stream",
     "text": [
      "Hello Gray, do you want some food? We are not going to eat anything today. I wonder if this can translate what I am saying. I have a very different speech than a lot of people.\n"
     ]
    }
   ],
   "source": [
    "import utils\n",
    "\n",
    "audioFileOutput = \"audio_ouput.mp3\"\n",
    "text = \"Hello World! Hear me speak!\"\n",
    "\n",
    "audioFileInput = \"Audio Input Test.m4a\" \n",
    "\n",
    "utils.setupOpenAIAPI()\n",
    "# utils.textToAudioFile(text, audioFileOutput) # Convert example text to audio file as test\n",
    "\n",
    "transcription = utils.audioToText(audioFileInput)\n",
    "print(transcription)"
   ]
  },
  {
   "cell_type": "code",
   "execution_count": null,
   "id": "d8ed6280-7c13-400b-aa8f-0b49303b3684",
   "metadata": {},
   "outputs": [],
   "source": []
  }
 ],
 "metadata": {
  "kernelspec": {
   "display_name": "FirstAIProject Env",
   "language": "python",
   "name": "my-jupyter-env"
  },
  "language_info": {
   "codemirror_mode": {
    "name": "ipython",
    "version": 3
   },
   "file_extension": ".py",
   "mimetype": "text/x-python",
   "name": "python",
   "nbconvert_exporter": "python",
   "pygments_lexer": "ipython3",
   "version": "3.9.6"
  }
 },
 "nbformat": 4,
 "nbformat_minor": 5
}
