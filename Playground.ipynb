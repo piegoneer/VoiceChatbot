{
 "cells": [
  {
   "cell_type": "code",
   "execution_count": null,
   "id": "63dc5bc6-904b-4b8a-902c-ca1468ded135",
   "metadata": {},
   "outputs": [
    {
     "name": "stdout",
     "output_type": "stream",
     "text": [
      "Listening (press Ctrl+C to stop)...\n",
      "Transcript: Hello.\n",
      "Sales Bot:Hello! I am a bot here to help you place your order at Burgers Direct. How can I assist you today?\n",
      "Transcript:  What is the shot?\n",
      "Sales Bot:I can help you place an order for our burgers. We offer the following products:\n",
      "\n",
      "1. Danger Burger for $10\n",
      "2. Happy Burger for $5\n",
      "3. Banana Burger for $2\n",
      "4. Fruit Burger for $1\n",
      "5. Sad Burger for $14\n",
      "\n",
      "Extra protein costs $2 more per burger. What would you like to order today?\n",
      "Transcript:  Can I talk to a Human Instead?\n",
      "Sales Bot:HUMAN_OP_REQUEST\n",
      "Transcript:  I know you can make better.\n"
     ]
    }
   ],
   "source": [
    "import googleCloudServices as gcs\n",
    "\n",
    "gcs.initGoogleCloudServices()\n",
    "gcs.speechToText()\n",
    "\n",
    "# gcs.text_to_speech(\"Test\")\n"
   ]
  }
 ],
 "metadata": {
  "kernelspec": {
   "display_name": "Voice Echo Enviroment",
   "language": "python",
   "name": "voiceechoenviroment"
  },
  "language_info": {
   "codemirror_mode": {
    "name": "ipython",
    "version": 3
   },
   "file_extension": ".py",
   "mimetype": "text/x-python",
   "name": "python",
   "nbconvert_exporter": "python",
   "pygments_lexer": "ipython3",
   "version": "3.12.3"
  }
 },
 "nbformat": 4,
 "nbformat_minor": 5
}
